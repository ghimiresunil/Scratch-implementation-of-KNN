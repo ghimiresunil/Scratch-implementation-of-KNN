{
 "cells": [
  {
   "cell_type": "markdown",
   "metadata": {},
   "source": [
    "## Step 1: Data Handling"
   ]
  },
  {
   "cell_type": "code",
   "execution_count": 1,
   "metadata": {},
   "outputs": [
    {
     "name": "stdout",
     "output_type": "stream",
     "text": [
      "5.1 , 3.5 , 1.4 , 0.2 , Iris-setosa\n",
      "4.9 , 3.0 , 1.4 , 0.2 , Iris-setosa\n",
      "4.7 , 3.2 , 1.3 , 0.2 , Iris-setosa\n",
      "4.6 , 3.1 , 1.5 , 0.2 , Iris-setosa\n",
      "5.0 , 3.6 , 1.4 , 0.2 , Iris-setosa\n",
      "5.4 , 3.9 , 1.7 , 0.4 , Iris-setosa\n",
      "4.6 , 3.4 , 1.4 , 0.3 , Iris-setosa\n",
      "5.0 , 3.4 , 1.5 , 0.2 , Iris-setosa\n",
      "4.4 , 2.9 , 1.4 , 0.2 , Iris-setosa\n",
      "4.9 , 3.1 , 1.5 , 0.1 , Iris-setosa\n",
      "5.4 , 3.7 , 1.5 , 0.2 , Iris-setosa\n",
      "4.8 , 3.4 , 1.6 , 0.2 , Iris-setosa\n",
      "4.8 , 3.0 , 1.4 , 0.1 , Iris-setosa\n",
      "4.3 , 3.0 , 1.1 , 0.1 , Iris-setosa\n",
      "5.8 , 4.0 , 1.2 , 0.2 , Iris-setosa\n",
      "5.7 , 4.4 , 1.5 , 0.4 , Iris-setosa\n",
      "5.4 , 3.9 , 1.3 , 0.4 , Iris-setosa\n",
      "5.1 , 3.5 , 1.4 , 0.3 , Iris-setosa\n",
      "5.7 , 3.8 , 1.7 , 0.3 , Iris-setosa\n",
      "5.1 , 3.8 , 1.5 , 0.3 , Iris-setosa\n",
      "5.4 , 3.4 , 1.7 , 0.2 , Iris-setosa\n",
      "5.1 , 3.7 , 1.5 , 0.4 , Iris-setosa\n",
      "4.6 , 3.6 , 1.0 , 0.2 , Iris-setosa\n",
      "5.1 , 3.3 , 1.7 , 0.5 , Iris-setosa\n",
      "4.8 , 3.4 , 1.9 , 0.2 , Iris-setosa\n",
      "5.0 , 3.0 , 1.6 , 0.2 , Iris-setosa\n",
      "5.0 , 3.4 , 1.6 , 0.4 , Iris-setosa\n",
      "5.2 , 3.5 , 1.5 , 0.2 , Iris-setosa\n",
      "5.2 , 3.4 , 1.4 , 0.2 , Iris-setosa\n",
      "4.7 , 3.2 , 1.6 , 0.2 , Iris-setosa\n",
      "4.8 , 3.1 , 1.6 , 0.2 , Iris-setosa\n",
      "5.4 , 3.4 , 1.5 , 0.4 , Iris-setosa\n",
      "5.2 , 4.1 , 1.5 , 0.1 , Iris-setosa\n",
      "5.5 , 4.2 , 1.4 , 0.2 , Iris-setosa\n",
      "4.9 , 3.1 , 1.5 , 0.1 , Iris-setosa\n",
      "5.0 , 3.2 , 1.2 , 0.2 , Iris-setosa\n",
      "5.5 , 3.5 , 1.3 , 0.2 , Iris-setosa\n",
      "4.9 , 3.1 , 1.5 , 0.1 , Iris-setosa\n",
      "4.4 , 3.0 , 1.3 , 0.2 , Iris-setosa\n",
      "5.1 , 3.4 , 1.5 , 0.2 , Iris-setosa\n",
      "5.0 , 3.5 , 1.3 , 0.3 , Iris-setosa\n",
      "4.5 , 2.3 , 1.3 , 0.3 , Iris-setosa\n",
      "4.4 , 3.2 , 1.3 , 0.2 , Iris-setosa\n",
      "5.0 , 3.5 , 1.6 , 0.6 , Iris-setosa\n",
      "5.1 , 3.8 , 1.9 , 0.4 , Iris-setosa\n",
      "4.8 , 3.0 , 1.4 , 0.3 , Iris-setosa\n",
      "5.1 , 3.8 , 1.6 , 0.2 , Iris-setosa\n",
      "4.6 , 3.2 , 1.4 , 0.2 , Iris-setosa\n",
      "5.3 , 3.7 , 1.5 , 0.2 , Iris-setosa\n",
      "5.0 , 3.3 , 1.4 , 0.2 , Iris-setosa\n",
      "7.0 , 3.2 , 4.7 , 1.4 , Iris-versicolor\n",
      "6.4 , 3.2 , 4.5 , 1.5 , Iris-versicolor\n",
      "6.9 , 3.1 , 4.9 , 1.5 , Iris-versicolor\n",
      "5.5 , 2.3 , 4.0 , 1.3 , Iris-versicolor\n",
      "6.5 , 2.8 , 4.6 , 1.5 , Iris-versicolor\n",
      "5.7 , 2.8 , 4.5 , 1.3 , Iris-versicolor\n",
      "6.3 , 3.3 , 4.7 , 1.6 , Iris-versicolor\n",
      "4.9 , 2.4 , 3.3 , 1.0 , Iris-versicolor\n",
      "6.6 , 2.9 , 4.6 , 1.3 , Iris-versicolor\n",
      "5.2 , 2.7 , 3.9 , 1.4 , Iris-versicolor\n",
      "5.0 , 2.0 , 3.5 , 1.0 , Iris-versicolor\n",
      "5.9 , 3.0 , 4.2 , 1.5 , Iris-versicolor\n",
      "6.0 , 2.2 , 4.0 , 1.0 , Iris-versicolor\n",
      "6.1 , 2.9 , 4.7 , 1.4 , Iris-versicolor\n",
      "5.6 , 2.9 , 3.6 , 1.3 , Iris-versicolor\n",
      "6.7 , 3.1 , 4.4 , 1.4 , Iris-versicolor\n",
      "5.6 , 3.0 , 4.5 , 1.5 , Iris-versicolor\n",
      "5.8 , 2.7 , 4.1 , 1.0 , Iris-versicolor\n",
      "6.2 , 2.2 , 4.5 , 1.5 , Iris-versicolor\n",
      "5.6 , 2.5 , 3.9 , 1.1 , Iris-versicolor\n",
      "5.9 , 3.2 , 4.8 , 1.8 , Iris-versicolor\n",
      "6.1 , 2.8 , 4.0 , 1.3 , Iris-versicolor\n",
      "6.3 , 2.5 , 4.9 , 1.5 , Iris-versicolor\n",
      "6.1 , 2.8 , 4.7 , 1.2 , Iris-versicolor\n",
      "6.4 , 2.9 , 4.3 , 1.3 , Iris-versicolor\n",
      "6.6 , 3.0 , 4.4 , 1.4 , Iris-versicolor\n",
      "6.8 , 2.8 , 4.8 , 1.4 , Iris-versicolor\n",
      "6.7 , 3.0 , 5.0 , 1.7 , Iris-versicolor\n",
      "6.0 , 2.9 , 4.5 , 1.5 , Iris-versicolor\n",
      "5.7 , 2.6 , 3.5 , 1.0 , Iris-versicolor\n",
      "5.5 , 2.4 , 3.8 , 1.1 , Iris-versicolor\n",
      "5.5 , 2.4 , 3.7 , 1.0 , Iris-versicolor\n",
      "5.8 , 2.7 , 3.9 , 1.2 , Iris-versicolor\n",
      "6.0 , 2.7 , 5.1 , 1.6 , Iris-versicolor\n",
      "5.4 , 3.0 , 4.5 , 1.5 , Iris-versicolor\n",
      "6.0 , 3.4 , 4.5 , 1.6 , Iris-versicolor\n",
      "6.7 , 3.1 , 4.7 , 1.5 , Iris-versicolor\n",
      "6.3 , 2.3 , 4.4 , 1.3 , Iris-versicolor\n",
      "5.6 , 3.0 , 4.1 , 1.3 , Iris-versicolor\n",
      "5.5 , 2.5 , 4.0 , 1.3 , Iris-versicolor\n",
      "5.5 , 2.6 , 4.4 , 1.2 , Iris-versicolor\n",
      "6.1 , 3.0 , 4.6 , 1.4 , Iris-versicolor\n",
      "5.8 , 2.6 , 4.0 , 1.2 , Iris-versicolor\n",
      "5.0 , 2.3 , 3.3 , 1.0 , Iris-versicolor\n",
      "5.6 , 2.7 , 4.2 , 1.3 , Iris-versicolor\n",
      "5.7 , 3.0 , 4.2 , 1.2 , Iris-versicolor\n",
      "5.7 , 2.9 , 4.2 , 1.3 , Iris-versicolor\n",
      "6.2 , 2.9 , 4.3 , 1.3 , Iris-versicolor\n",
      "5.1 , 2.5 , 3.0 , 1.1 , Iris-versicolor\n",
      "5.7 , 2.8 , 4.1 , 1.3 , Iris-versicolor\n",
      "6.3 , 3.3 , 6.0 , 2.5 , Iris-virginica\n",
      "5.8 , 2.7 , 5.1 , 1.9 , Iris-virginica\n",
      "7.1 , 3.0 , 5.9 , 2.1 , Iris-virginica\n",
      "6.3 , 2.9 , 5.6 , 1.8 , Iris-virginica\n",
      "6.5 , 3.0 , 5.8 , 2.2 , Iris-virginica\n",
      "7.6 , 3.0 , 6.6 , 2.1 , Iris-virginica\n",
      "4.9 , 2.5 , 4.5 , 1.7 , Iris-virginica\n",
      "7.3 , 2.9 , 6.3 , 1.8 , Iris-virginica\n",
      "6.7 , 2.5 , 5.8 , 1.8 , Iris-virginica\n",
      "7.2 , 3.6 , 6.1 , 2.5 , Iris-virginica\n",
      "6.5 , 3.2 , 5.1 , 2.0 , Iris-virginica\n",
      "6.4 , 2.7 , 5.3 , 1.9 , Iris-virginica\n",
      "6.8 , 3.0 , 5.5 , 2.1 , Iris-virginica\n",
      "5.7 , 2.5 , 5.0 , 2.0 , Iris-virginica\n",
      "5.8 , 2.8 , 5.1 , 2.4 , Iris-virginica\n",
      "6.4 , 3.2 , 5.3 , 2.3 , Iris-virginica\n",
      "6.5 , 3.0 , 5.5 , 1.8 , Iris-virginica\n",
      "7.7 , 3.8 , 6.7 , 2.2 , Iris-virginica\n",
      "7.7 , 2.6 , 6.9 , 2.3 , Iris-virginica\n",
      "6.0 , 2.2 , 5.0 , 1.5 , Iris-virginica\n",
      "6.9 , 3.2 , 5.7 , 2.3 , Iris-virginica\n",
      "5.6 , 2.8 , 4.9 , 2.0 , Iris-virginica\n",
      "7.7 , 2.8 , 6.7 , 2.0 , Iris-virginica\n",
      "6.3 , 2.7 , 4.9 , 1.8 , Iris-virginica\n",
      "6.7 , 3.3 , 5.7 , 2.1 , Iris-virginica\n",
      "7.2 , 3.2 , 6.0 , 1.8 , Iris-virginica\n",
      "6.2 , 2.8 , 4.8 , 1.8 , Iris-virginica\n",
      "6.1 , 3.0 , 4.9 , 1.8 , Iris-virginica\n",
      "6.4 , 2.8 , 5.6 , 2.1 , Iris-virginica\n",
      "7.2 , 3.0 , 5.8 , 1.6 , Iris-virginica\n",
      "7.4 , 2.8 , 6.1 , 1.9 , Iris-virginica\n",
      "7.9 , 3.8 , 6.4 , 2.0 , Iris-virginica\n",
      "6.4 , 2.8 , 5.6 , 2.2 , Iris-virginica\n",
      "6.3 , 2.8 , 5.1 , 1.5 , Iris-virginica\n",
      "6.1 , 2.6 , 5.6 , 1.4 , Iris-virginica\n",
      "7.7 , 3.0 , 6.1 , 2.3 , Iris-virginica\n",
      "6.3 , 3.4 , 5.6 , 2.4 , Iris-virginica\n",
      "6.4 , 3.1 , 5.5 , 1.8 , Iris-virginica\n",
      "6.0 , 3.0 , 4.8 , 1.8 , Iris-virginica\n",
      "6.9 , 3.1 , 5.4 , 2.1 , Iris-virginica\n",
      "6.7 , 3.1 , 5.6 , 2.4 , Iris-virginica\n",
      "6.9 , 3.1 , 5.1 , 2.3 , Iris-virginica\n",
      "5.8 , 2.7 , 5.1 , 1.9 , Iris-virginica\n",
      "6.8 , 3.2 , 5.9 , 2.3 , Iris-virginica\n",
      "6.7 , 3.3 , 5.7 , 2.5 , Iris-virginica\n",
      "6.7 , 3.0 , 5.2 , 2.3 , Iris-virginica\n",
      "6.3 , 2.5 , 5.0 , 1.9 , Iris-virginica\n",
      "6.5 , 3.0 , 5.2 , 2.0 , Iris-virginica\n",
      "6.2 , 3.4 , 5.4 , 2.3 , Iris-virginica\n",
      "5.9 , 3.0 , 5.1 , 1.8 , Iris-virginica\n",
      "\n"
     ]
    }
   ],
   "source": [
    ">>> import csv\n",
    ">>> with open('../dataset/iris.data') as csvfile:\n",
    "...     lines = csv.reader(csvfile)\n",
    "...     for row in lines:\n",
    "...        print(' , '.join(row))"
   ]
  },
  {
   "cell_type": "code",
   "execution_count": 2,
   "metadata": {},
   "outputs": [],
   "source": [
    ">>> import csv\n",
    ">>> import random\n",
    ">>> def handleDataset(filename, split, trainSets = [], testSets = []):\n",
    "...     with open(filename, 'r') as csvfile:\n",
    "...         lines = csv.reader(csvfile)\n",
    "...         dataset = list(lines)\n",
    "...         for x in range(len(dataset) - 1):\n",
    "...             for y in range(4):\n",
    "...                 dataset[x][y] = float(dataset[x][y])\n",
    "...                 if random.random() < split:\n",
    "...                     trainSets.append(dataset[x])\n",
    "...                 else:\n",
    "...                    testSets.append(dataset[x])            "
   ]
  },
  {
   "cell_type": "code",
   "execution_count": 3,
   "metadata": {
    "scrolled": true
   },
   "outputs": [
    {
     "name": "stdout",
     "output_type": "stream",
     "text": [
      "Train Set for KNN: 394\n",
      "Test set for KNN: 206\n"
     ]
    }
   ],
   "source": [
    ">>> trainSets =[]\n",
    ">>> testSets=[]\n",
    ">>> handleDataset('../dataset/iris.data.', 0.66, trainSets, testSets)\n",
    ">>> print ('Train Set for KNN: ' + repr(len(trainSets)))\n",
    ">>> print ('Test set for KNN: ' + repr(len(testSets)))"
   ]
  },
  {
   "cell_type": "markdown",
   "metadata": {},
   "source": [
    "## Step 2: Data calculation"
   ]
  },
  {
   "cell_type": "code",
   "execution_count": 4,
   "metadata": {},
   "outputs": [],
   "source": [
    ">>> import math \n",
    ">>> def euclidean_distance(insta_one, insta_two, length):\n",
    "...     distance = 0\n",
    "...     for x in range(length):\n",
    "...         distance += pow((insta_one[x] - insta_two[x]), 2)\n",
    "...     return math.sqrt(distance)"
   ]
  },
  {
   "cell_type": "code",
   "execution_count": 11,
   "metadata": {},
   "outputs": [
    {
     "name": "stdout",
     "output_type": "stream",
     "text": [
      "The distance between two points is: 1.7320508075688772\n"
     ]
    }
   ],
   "source": [
    ">>> data_one = [5, 5, 5, 'a']\n",
    ">>> data_two = [6, 6, 6, 'b']\n",
    ">>> distance = euclidean_distance(data_one, data_two, 3)\n",
    ">>> print ('The distance between two points is: ' + repr(distance))"
   ]
  },
  {
   "cell_type": "markdown",
   "metadata": {},
   "source": [
    "## Step 3: Finding K nearest Point"
   ]
  },
  {
   "cell_type": "code",
   "execution_count": 23,
   "metadata": {},
   "outputs": [],
   "source": [
    ">>> import operator\n",
    ">>> def getKNeighbors(trainSet, testInstance, K):\n",
    "...     distance = []\n",
    "...     length = len(testInstance) - 1\n",
    "...     for x in range(len(trainSet)):\n",
    "...         dist = euclidean_distance(testInstance, trainSet[x], length)\n",
    "...         distance.append((trainSet[x], dist))\n",
    "...     distance.sort(key = operator.itemgetter(1))\n",
    "...     neighbors = []\n",
    "...     for x in range(k):\n",
    "...         neighbors.append(distance[x][0])\n",
    "...     return neighbors"
   ]
  },
  {
   "cell_type": "code",
   "execution_count": 27,
   "metadata": {},
   "outputs": [
    {
     "name": "stdout",
     "output_type": "stream",
     "text": [
      "The nearest neighbors is: [[6, 6, 6, 'b']]\n"
     ]
    }
   ],
   "source": [
    ">>> trainSet = [[5, 5, 5, 'a'], [6, 6, 6, 'b']]\n",
    ">>> testInstance = [7, 7, 7]\n",
    ">>> k = 1\n",
    ">>> neighbors = getKNeighbors(trainSet, testInstance, 1)\n",
    ">>> print('The nearest neighbors is:', neighbors)"
   ]
  },
  {
   "cell_type": "markdown",
   "metadata": {},
   "source": [
    "## Step 4: Predict the class"
   ]
  },
  {
   "cell_type": "code",
   "execution_count": 40,
   "metadata": {},
   "outputs": [],
   "source": [
    ">>> import operator\n",
    ">>> def getResponse(neighbors):\n",
    "...     vote_class = {}\n",
    "...     for x in range(len(neighbors)):\n",
    "...         response = neighbors[x][-1]\n",
    "...         if response in vote_class:\n",
    "...             vote_class[response] += 1\n",
    "...         else:\n",
    "...             vote_class[response] = 1\n",
    "...     sortedVotes = sorted(vote_class.items(), key=operator.itemgetter(1), reverse=True)\n",
    "...     return sortedVotes[0][0]"
   ]
  },
  {
   "cell_type": "code",
   "execution_count": 43,
   "metadata": {},
   "outputs": [
    {
     "name": "stdout",
     "output_type": "stream",
     "text": [
      "Majority Vote Response:  a\n"
     ]
    }
   ],
   "source": [
    ">>> neighbors = [[5,5,5,'a'], [6,6,6,'a'], [7,7,7,'b']]\n",
    ">>> print('Majority Vote Response: ',getResponse(neighbors))"
   ]
  },
  {
   "cell_type": "markdown",
   "metadata": {},
   "source": [
    "## Step 5: Check the accuracy"
   ]
  },
  {
   "cell_type": "code",
   "execution_count": 61,
   "metadata": {},
   "outputs": [],
   "source": [
    ">>> def getAccuracy(testSet, predictions):\n",
    "...     correct = 0\n",
    "...     for x in range(len(testSet)):\n",
    "...         if testSet[x][-1] is predictions[x]:\n",
    "...             correct += 1\n",
    "...     return (correct/float(len(testSet))) * 100.0"
   ]
  },
  {
   "cell_type": "code",
   "execution_count": 58,
   "metadata": {},
   "outputs": [
    {
     "name": "stdout",
     "output_type": "stream",
     "text": [
      "Accuracy of predictions out of predictions made 66.67 %\n"
     ]
    }
   ],
   "source": [
    ">>> testSet = [[5,5,5,'a'], [6,6,6,'a'], [7,7,7,'b']]\n",
    ">>> predictions = ['a', 'a', 'a']\n",
    ">>> accuracy = getAccuracy(testSet, predictions)\n",
    ">>> print('Accuracy of predictions out of predictions made', round((accuracy) , 2 ) , '%')"
   ]
  },
  {
   "cell_type": "markdown",
   "metadata": {},
   "source": [
    "## KNN using Scikit-learn"
   ]
  },
  {
   "cell_type": "markdown",
   "metadata": {},
   "source": [
    "The example below demonstrates KNN implementation on iris dataset using scikit-learn library where iris dataset has petal length, width and sepal length, width with species class/label. Our task is to build a KNN model based on sepal and petal measurements which classifies the new species. We have already downloaded the iris dataset. Now we can make use of it to bulls our KNN model. "
   ]
  },
  {
   "cell_type": "markdown",
   "metadata": {},
   "source": [
    "## Step 1: Import the downloaded data and check its features."
   ]
  },
  {
   "cell_type": "code",
   "execution_count": 44,
   "metadata": {},
   "outputs": [],
   "source": [
    ">>> import pandas as pd\n",
    ">>> iris = pd.read_csv('../dataset/iris.data', header = None)"
   ]
  },
  {
   "cell_type": "code",
   "execution_count": 2,
   "metadata": {},
   "outputs": [
    {
     "data": {
      "text/html": [
       "<div>\n",
       "<style scoped>\n",
       "    .dataframe tbody tr th:only-of-type {\n",
       "        vertical-align: middle;\n",
       "    }\n",
       "\n",
       "    .dataframe tbody tr th {\n",
       "        vertical-align: top;\n",
       "    }\n",
       "\n",
       "    .dataframe thead th {\n",
       "        text-align: right;\n",
       "    }\n",
       "</style>\n",
       "<table border=\"1\" class=\"dataframe\">\n",
       "  <thead>\n",
       "    <tr style=\"text-align: right;\">\n",
       "      <th></th>\n",
       "      <th>0</th>\n",
       "      <th>1</th>\n",
       "      <th>2</th>\n",
       "      <th>3</th>\n",
       "      <th>4</th>\n",
       "    </tr>\n",
       "  </thead>\n",
       "  <tbody>\n",
       "    <tr>\n",
       "      <th>0</th>\n",
       "      <td>5.1</td>\n",
       "      <td>3.5</td>\n",
       "      <td>1.4</td>\n",
       "      <td>0.2</td>\n",
       "      <td>Iris-setosa</td>\n",
       "    </tr>\n",
       "    <tr>\n",
       "      <th>1</th>\n",
       "      <td>4.9</td>\n",
       "      <td>3.0</td>\n",
       "      <td>1.4</td>\n",
       "      <td>0.2</td>\n",
       "      <td>Iris-setosa</td>\n",
       "    </tr>\n",
       "    <tr>\n",
       "      <th>2</th>\n",
       "      <td>4.7</td>\n",
       "      <td>3.2</td>\n",
       "      <td>1.3</td>\n",
       "      <td>0.2</td>\n",
       "      <td>Iris-setosa</td>\n",
       "    </tr>\n",
       "    <tr>\n",
       "      <th>3</th>\n",
       "      <td>4.6</td>\n",
       "      <td>3.1</td>\n",
       "      <td>1.5</td>\n",
       "      <td>0.2</td>\n",
       "      <td>Iris-setosa</td>\n",
       "    </tr>\n",
       "    <tr>\n",
       "      <th>4</th>\n",
       "      <td>5.0</td>\n",
       "      <td>3.6</td>\n",
       "      <td>1.4</td>\n",
       "      <td>0.2</td>\n",
       "      <td>Iris-setosa</td>\n",
       "    </tr>\n",
       "  </tbody>\n",
       "</table>\n",
       "</div>"
      ],
      "text/plain": [
       "     0    1    2    3            4\n",
       "0  5.1  3.5  1.4  0.2  Iris-setosa\n",
       "1  4.9  3.0  1.4  0.2  Iris-setosa\n",
       "2  4.7  3.2  1.3  0.2  Iris-setosa\n",
       "3  4.6  3.1  1.5  0.2  Iris-setosa\n",
       "4  5.0  3.6  1.4  0.2  Iris-setosa"
      ]
     },
     "execution_count": 2,
     "metadata": {},
     "output_type": "execute_result"
    }
   ],
   "source": [
    "## print the iris data\n",
    ">>> iris.head()"
   ]
  },
  {
   "cell_type": "code",
   "execution_count": 3,
   "metadata": {},
   "outputs": [
    {
     "data": {
      "text/plain": [
       "(150, 5)"
      ]
     },
     "execution_count": 3,
     "metadata": {},
     "output_type": "execute_result"
    }
   ],
   "source": [
    "## shape of iris data\n",
    ">>> iris.shape"
   ]
  },
  {
   "cell_type": "code",
   "execution_count": 4,
   "metadata": {},
   "outputs": [
    {
     "data": {
      "text/html": [
       "<div>\n",
       "<style scoped>\n",
       "    .dataframe tbody tr th:only-of-type {\n",
       "        vertical-align: middle;\n",
       "    }\n",
       "\n",
       "    .dataframe tbody tr th {\n",
       "        vertical-align: top;\n",
       "    }\n",
       "\n",
       "    .dataframe thead th {\n",
       "        text-align: right;\n",
       "    }\n",
       "</style>\n",
       "<table border=\"1\" class=\"dataframe\">\n",
       "  <thead>\n",
       "    <tr style=\"text-align: right;\">\n",
       "      <th></th>\n",
       "      <th>sepal_length</th>\n",
       "      <th>sepal_width</th>\n",
       "      <th>petal_length</th>\n",
       "      <th>petal_width</th>\n",
       "      <th>target_class</th>\n",
       "    </tr>\n",
       "  </thead>\n",
       "  <tbody>\n",
       "    <tr>\n",
       "      <th>0</th>\n",
       "      <td>5.1</td>\n",
       "      <td>3.5</td>\n",
       "      <td>1.4</td>\n",
       "      <td>0.2</td>\n",
       "      <td>Iris-setosa</td>\n",
       "    </tr>\n",
       "    <tr>\n",
       "      <th>1</th>\n",
       "      <td>4.9</td>\n",
       "      <td>3.0</td>\n",
       "      <td>1.4</td>\n",
       "      <td>0.2</td>\n",
       "      <td>Iris-setosa</td>\n",
       "    </tr>\n",
       "    <tr>\n",
       "      <th>2</th>\n",
       "      <td>4.7</td>\n",
       "      <td>3.2</td>\n",
       "      <td>1.3</td>\n",
       "      <td>0.2</td>\n",
       "      <td>Iris-setosa</td>\n",
       "    </tr>\n",
       "    <tr>\n",
       "      <th>3</th>\n",
       "      <td>4.6</td>\n",
       "      <td>3.1</td>\n",
       "      <td>1.5</td>\n",
       "      <td>0.2</td>\n",
       "      <td>Iris-setosa</td>\n",
       "    </tr>\n",
       "    <tr>\n",
       "      <th>4</th>\n",
       "      <td>5.0</td>\n",
       "      <td>3.6</td>\n",
       "      <td>1.4</td>\n",
       "      <td>0.2</td>\n",
       "      <td>Iris-setosa</td>\n",
       "    </tr>\n",
       "  </tbody>\n",
       "</table>\n",
       "</div>"
      ],
      "text/plain": [
       "   sepal_length  sepal_width  petal_length  petal_width target_class\n",
       "0           5.1          3.5           1.4          0.2  Iris-setosa\n",
       "1           4.9          3.0           1.4          0.2  Iris-setosa\n",
       "2           4.7          3.2           1.3          0.2  Iris-setosa\n",
       "3           4.6          3.1           1.5          0.2  Iris-setosa\n",
       "4           5.0          3.6           1.4          0.2  Iris-setosa"
      ]
     },
     "execution_count": 4,
     "metadata": {},
     "output_type": "execute_result"
    }
   ],
   "source": [
    "##  attribute to return the column labels of the given Dataframe\n",
    ">>> iris.columns = [\"sepal_length\", \"sepal_width\", \n",
    "...                     \"petal_length\", \"petal_width\", \"target_class\"]\n",
    ">>> iris.dropna(how ='all', inplace = True)\n",
    ">>> iris.head()"
   ]
  },
  {
   "cell_type": "code",
   "execution_count": 5,
   "metadata": {},
   "outputs": [
    {
     "data": {
      "text/plain": [
       "0    Iris-setosa\n",
       "1    Iris-setosa\n",
       "2    Iris-setosa\n",
       "3    Iris-setosa\n",
       "4    Iris-setosa\n",
       "Name: target_class, dtype: object"
      ]
     },
     "execution_count": 5,
     "metadata": {},
     "output_type": "execute_result"
    }
   ],
   "source": [
    "iris.target_class.head()"
   ]
  },
  {
   "cell_type": "code",
   "execution_count": 6,
   "metadata": {},
   "outputs": [],
   "source": [
    "# using LabeEncoder for target_Class w\n",
    ">>> from sklearn.preprocessing import LabelEncoder\n",
    ">>> labelencoder = LabelEncoder()\n",
    ">>> iris['target_class'] = labelencoder.fit_transform(iris['target_class'])"
   ]
  },
  {
   "cell_type": "code",
   "execution_count": 7,
   "metadata": {},
   "outputs": [
    {
     "data": {
      "text/plain": [
       "array([0, 1, 2], dtype=int64)"
      ]
     },
     "execution_count": 7,
     "metadata": {},
     "output_type": "execute_result"
    }
   ],
   "source": [
    "## printing unique value of target_class after using LabelEncoder\n",
    ">>> iris.target_class.unique()"
   ]
  },
  {
   "cell_type": "code",
   "execution_count": 8,
   "metadata": {},
   "outputs": [],
   "source": [
    "## seperating feature class\n",
    ">>> data = iris.iloc[:, iris.columns != 'target_class']"
   ]
  },
  {
   "cell_type": "code",
   "execution_count": 9,
   "metadata": {},
   "outputs": [
    {
     "data": {
      "text/html": [
       "<div>\n",
       "<style scoped>\n",
       "    .dataframe tbody tr th:only-of-type {\n",
       "        vertical-align: middle;\n",
       "    }\n",
       "\n",
       "    .dataframe tbody tr th {\n",
       "        vertical-align: top;\n",
       "    }\n",
       "\n",
       "    .dataframe thead th {\n",
       "        text-align: right;\n",
       "    }\n",
       "</style>\n",
       "<table border=\"1\" class=\"dataframe\">\n",
       "  <thead>\n",
       "    <tr style=\"text-align: right;\">\n",
       "      <th></th>\n",
       "      <th>sepal_length</th>\n",
       "      <th>sepal_width</th>\n",
       "      <th>petal_length</th>\n",
       "      <th>petal_width</th>\n",
       "    </tr>\n",
       "  </thead>\n",
       "  <tbody>\n",
       "    <tr>\n",
       "      <th>0</th>\n",
       "      <td>5.1</td>\n",
       "      <td>3.5</td>\n",
       "      <td>1.4</td>\n",
       "      <td>0.2</td>\n",
       "    </tr>\n",
       "    <tr>\n",
       "      <th>1</th>\n",
       "      <td>4.9</td>\n",
       "      <td>3.0</td>\n",
       "      <td>1.4</td>\n",
       "      <td>0.2</td>\n",
       "    </tr>\n",
       "    <tr>\n",
       "      <th>2</th>\n",
       "      <td>4.7</td>\n",
       "      <td>3.2</td>\n",
       "      <td>1.3</td>\n",
       "      <td>0.2</td>\n",
       "    </tr>\n",
       "    <tr>\n",
       "      <th>3</th>\n",
       "      <td>4.6</td>\n",
       "      <td>3.1</td>\n",
       "      <td>1.5</td>\n",
       "      <td>0.2</td>\n",
       "    </tr>\n",
       "    <tr>\n",
       "      <th>4</th>\n",
       "      <td>5.0</td>\n",
       "      <td>3.6</td>\n",
       "      <td>1.4</td>\n",
       "      <td>0.2</td>\n",
       "    </tr>\n",
       "  </tbody>\n",
       "</table>\n",
       "</div>"
      ],
      "text/plain": [
       "   sepal_length  sepal_width  petal_length  petal_width\n",
       "0           5.1          3.5           1.4          0.2\n",
       "1           4.9          3.0           1.4          0.2\n",
       "2           4.7          3.2           1.3          0.2\n",
       "3           4.6          3.1           1.5          0.2\n",
       "4           5.0          3.6           1.4          0.2"
      ]
     },
     "execution_count": 9,
     "metadata": {},
     "output_type": "execute_result"
    }
   ],
   "source": [
    "## priniting feature class\n",
    ">>> data.head()"
   ]
  },
  {
   "cell_type": "code",
   "execution_count": 10,
   "metadata": {},
   "outputs": [],
   "source": [
    "## separting target class\n",
    ">>> target  = iris.iloc[:, iris.columns == 'target_class']"
   ]
  },
  {
   "cell_type": "code",
   "execution_count": 11,
   "metadata": {},
   "outputs": [
    {
     "data": {
      "text/html": [
       "<div>\n",
       "<style scoped>\n",
       "    .dataframe tbody tr th:only-of-type {\n",
       "        vertical-align: middle;\n",
       "    }\n",
       "\n",
       "    .dataframe tbody tr th {\n",
       "        vertical-align: top;\n",
       "    }\n",
       "\n",
       "    .dataframe thead th {\n",
       "        text-align: right;\n",
       "    }\n",
       "</style>\n",
       "<table border=\"1\" class=\"dataframe\">\n",
       "  <thead>\n",
       "    <tr style=\"text-align: right;\">\n",
       "      <th></th>\n",
       "      <th>target_class</th>\n",
       "    </tr>\n",
       "  </thead>\n",
       "  <tbody>\n",
       "    <tr>\n",
       "      <th>0</th>\n",
       "      <td>0</td>\n",
       "    </tr>\n",
       "    <tr>\n",
       "      <th>1</th>\n",
       "      <td>0</td>\n",
       "    </tr>\n",
       "    <tr>\n",
       "      <th>2</th>\n",
       "      <td>0</td>\n",
       "    </tr>\n",
       "    <tr>\n",
       "      <th>3</th>\n",
       "      <td>0</td>\n",
       "    </tr>\n",
       "    <tr>\n",
       "      <th>4</th>\n",
       "      <td>0</td>\n",
       "    </tr>\n",
       "  </tbody>\n",
       "</table>\n",
       "</div>"
      ],
      "text/plain": [
       "   target_class\n",
       "0             0\n",
       "1             0\n",
       "2             0\n",
       "3             0\n",
       "4             0"
      ]
     },
     "execution_count": 11,
     "metadata": {},
     "output_type": "execute_result"
    }
   ],
   "source": [
    "## printing target class\n",
    ">>> target.head()"
   ]
  },
  {
   "cell_type": "code",
   "execution_count": 12,
   "metadata": {},
   "outputs": [
    {
     "data": {
      "text/plain": [
       "(150, 4)"
      ]
     },
     "execution_count": 12,
     "metadata": {},
     "output_type": "execute_result"
    }
   ],
   "source": [
    ">>> data.shape"
   ]
  },
  {
   "cell_type": "code",
   "execution_count": 13,
   "metadata": {},
   "outputs": [
    {
     "data": {
      "text/plain": [
       "(150, 1)"
      ]
     },
     "execution_count": 13,
     "metadata": {},
     "output_type": "execute_result"
    }
   ],
   "source": [
    ">>> target.shape"
   ]
  },
  {
   "cell_type": "markdown",
   "metadata": {},
   "source": [
    "## Step 2: Split the data into train set and test set and train the KNN model"
   ]
  },
  {
   "cell_type": "code",
   "execution_count": 14,
   "metadata": {},
   "outputs": [],
   "source": [
    "## splitting the data into training and test sets \n",
    ">>> from sklearn.model_selection import train_test_split \n",
    ">>> X_train, X_test, y_train, y_test = train_test_split(data, target, \n",
    "...                                             test_size = 0.3, random_state = 524)"
   ]
  },
  {
   "cell_type": "code",
   "execution_count": 15,
   "metadata": {},
   "outputs": [
    {
     "name": "stdout",
     "output_type": "stream",
     "text": [
      "(105, 4)\n",
      "(45, 4)\n"
     ]
    }
   ],
   "source": [
    "## shape of train and test objects \n",
    ">>> print(X_train.shape)\n",
    ">>> print(X_test.shape)"
   ]
  },
  {
   "cell_type": "code",
   "execution_count": 16,
   "metadata": {},
   "outputs": [
    {
     "name": "stdout",
     "output_type": "stream",
     "text": [
      "(105, 1)\n",
      "(45, 1)\n"
     ]
    }
   ],
   "source": [
    "## shape of y objects\n",
    ">>> print(y_train.shape)\n",
    ">>> print(y_test.shape)"
   ]
  },
  {
   "cell_type": "markdown",
   "metadata": {},
   "source": [
    "## Step 3: Import ‘KNeighborsClassifier’ class from sklearn"
   ]
  },
  {
   "cell_type": "code",
   "execution_count": 48,
   "metadata": {},
   "outputs": [
    {
     "name": "stderr",
     "output_type": "stream",
     "text": [
      "C:\\ProgramData\\Anaconda3\\lib\\site-packages\\ipykernel_launcher.py:11: DataConversionWarning: A column-vector y was passed when a 1d array was expected. Please change the shape of y to (n_samples, ), for example using ravel().\n",
      "  # This is added back by InteractiveShellApp.init_path()\n",
      "C:\\ProgramData\\Anaconda3\\lib\\site-packages\\ipykernel_launcher.py:11: DataConversionWarning: A column-vector y was passed when a 1d array was expected. Please change the shape of y to (n_samples, ), for example using ravel().\n",
      "  # This is added back by InteractiveShellApp.init_path()\n",
      "C:\\ProgramData\\Anaconda3\\lib\\site-packages\\ipykernel_launcher.py:11: DataConversionWarning: A column-vector y was passed when a 1d array was expected. Please change the shape of y to (n_samples, ), for example using ravel().\n",
      "  # This is added back by InteractiveShellApp.init_path()\n",
      "C:\\ProgramData\\Anaconda3\\lib\\site-packages\\ipykernel_launcher.py:11: DataConversionWarning: A column-vector y was passed when a 1d array was expected. Please change the shape of y to (n_samples, ), for example using ravel().\n",
      "  # This is added back by InteractiveShellApp.init_path()\n",
      "C:\\ProgramData\\Anaconda3\\lib\\site-packages\\ipykernel_launcher.py:11: DataConversionWarning: A column-vector y was passed when a 1d array was expected. Please change the shape of y to (n_samples, ), for example using ravel().\n",
      "  # This is added back by InteractiveShellApp.init_path()\n",
      "C:\\ProgramData\\Anaconda3\\lib\\site-packages\\ipykernel_launcher.py:11: DataConversionWarning: A column-vector y was passed when a 1d array was expected. Please change the shape of y to (n_samples, ), for example using ravel().\n",
      "  # This is added back by InteractiveShellApp.init_path()\n",
      "C:\\ProgramData\\Anaconda3\\lib\\site-packages\\ipykernel_launcher.py:11: DataConversionWarning: A column-vector y was passed when a 1d array was expected. Please change the shape of y to (n_samples, ), for example using ravel().\n",
      "  # This is added back by InteractiveShellApp.init_path()\n",
      "C:\\ProgramData\\Anaconda3\\lib\\site-packages\\ipykernel_launcher.py:11: DataConversionWarning: A column-vector y was passed when a 1d array was expected. Please change the shape of y to (n_samples, ), for example using ravel().\n",
      "  # This is added back by InteractiveShellApp.init_path()\n",
      "C:\\ProgramData\\Anaconda3\\lib\\site-packages\\ipykernel_launcher.py:11: DataConversionWarning: A column-vector y was passed when a 1d array was expected. Please change the shape of y to (n_samples, ), for example using ravel().\n",
      "  # This is added back by InteractiveShellApp.init_path()\n",
      "C:\\ProgramData\\Anaconda3\\lib\\site-packages\\ipykernel_launcher.py:11: DataConversionWarning: A column-vector y was passed when a 1d array was expected. Please change the shape of y to (n_samples, ), for example using ravel().\n",
      "  # This is added back by InteractiveShellApp.init_path()\n",
      "C:\\ProgramData\\Anaconda3\\lib\\site-packages\\ipykernel_launcher.py:11: DataConversionWarning: A column-vector y was passed when a 1d array was expected. Please change the shape of y to (n_samples, ), for example using ravel().\n",
      "  # This is added back by InteractiveShellApp.init_path()\n",
      "C:\\ProgramData\\Anaconda3\\lib\\site-packages\\ipykernel_launcher.py:11: DataConversionWarning: A column-vector y was passed when a 1d array was expected. Please change the shape of y to (n_samples, ), for example using ravel().\n",
      "  # This is added back by InteractiveShellApp.init_path()\n",
      "C:\\ProgramData\\Anaconda3\\lib\\site-packages\\ipykernel_launcher.py:11: DataConversionWarning: A column-vector y was passed when a 1d array was expected. Please change the shape of y to (n_samples, ), for example using ravel().\n",
      "  # This is added back by InteractiveShellApp.init_path()\n",
      "C:\\ProgramData\\Anaconda3\\lib\\site-packages\\ipykernel_launcher.py:11: DataConversionWarning: A column-vector y was passed when a 1d array was expected. Please change the shape of y to (n_samples, ), for example using ravel().\n",
      "  # This is added back by InteractiveShellApp.init_path()\n",
      "C:\\ProgramData\\Anaconda3\\lib\\site-packages\\ipykernel_launcher.py:11: DataConversionWarning: A column-vector y was passed when a 1d array was expected. Please change the shape of y to (n_samples, ), for example using ravel().\n",
      "  # This is added back by InteractiveShellApp.init_path()\n",
      "C:\\ProgramData\\Anaconda3\\lib\\site-packages\\ipykernel_launcher.py:11: DataConversionWarning: A column-vector y was passed when a 1d array was expected. Please change the shape of y to (n_samples, ), for example using ravel().\n",
      "  # This is added back by InteractiveShellApp.init_path()\n",
      "C:\\ProgramData\\Anaconda3\\lib\\site-packages\\ipykernel_launcher.py:11: DataConversionWarning: A column-vector y was passed when a 1d array was expected. Please change the shape of y to (n_samples, ), for example using ravel().\n",
      "  # This is added back by InteractiveShellApp.init_path()\n",
      "C:\\ProgramData\\Anaconda3\\lib\\site-packages\\ipykernel_launcher.py:11: DataConversionWarning: A column-vector y was passed when a 1d array was expected. Please change the shape of y to (n_samples, ), for example using ravel().\n",
      "  # This is added back by InteractiveShellApp.init_path()\n",
      "C:\\ProgramData\\Anaconda3\\lib\\site-packages\\ipykernel_launcher.py:11: DataConversionWarning: A column-vector y was passed when a 1d array was expected. Please change the shape of y to (n_samples, ), for example using ravel().\n",
      "  # This is added back by InteractiveShellApp.init_path()\n",
      "C:\\ProgramData\\Anaconda3\\lib\\site-packages\\ipykernel_launcher.py:11: DataConversionWarning: A column-vector y was passed when a 1d array was expected. Please change the shape of y to (n_samples, ), for example using ravel().\n",
      "  # This is added back by InteractiveShellApp.init_path()\n",
      "C:\\ProgramData\\Anaconda3\\lib\\site-packages\\ipykernel_launcher.py:11: DataConversionWarning: A column-vector y was passed when a 1d array was expected. Please change the shape of y to (n_samples, ), for example using ravel().\n",
      "  # This is added back by InteractiveShellApp.init_path()\n",
      "C:\\ProgramData\\Anaconda3\\lib\\site-packages\\ipykernel_launcher.py:11: DataConversionWarning: A column-vector y was passed when a 1d array was expected. Please change the shape of y to (n_samples, ), for example using ravel().\n",
      "  # This is added back by InteractiveShellApp.init_path()\n",
      "C:\\ProgramData\\Anaconda3\\lib\\site-packages\\ipykernel_launcher.py:11: DataConversionWarning: A column-vector y was passed when a 1d array was expected. Please change the shape of y to (n_samples, ), for example using ravel().\n",
      "  # This is added back by InteractiveShellApp.init_path()\n",
      "C:\\ProgramData\\Anaconda3\\lib\\site-packages\\ipykernel_launcher.py:11: DataConversionWarning: A column-vector y was passed when a 1d array was expected. Please change the shape of y to (n_samples, ), for example using ravel().\n",
      "  # This is added back by InteractiveShellApp.init_path()\n",
      "C:\\ProgramData\\Anaconda3\\lib\\site-packages\\ipykernel_launcher.py:11: DataConversionWarning: A column-vector y was passed when a 1d array was expected. Please change the shape of y to (n_samples, ), for example using ravel().\n",
      "  # This is added back by InteractiveShellApp.init_path()\n"
     ]
    }
   ],
   "source": [
    "## Import ‘KNeighborsClassifier’ class from sklearn\n",
    ">>> from sklearn.neighbors import KNeighborsClassifier\n",
    "## import metrics model to check the accuracy\n",
    ">>> from sklearn import metrics\n",
    "## using loop from k = 1 to k = 25 and record testing accuracy\n",
    ">>> k_range = range(1,26)\n",
    ">>> scores = {}\n",
    ">>> score_list = []\n",
    ">>> for k in k_range:\n",
    "...     knn = KNeighborsClassifier(n_neighbors=k)\n",
    "...     knn.fit(X_train, y_train)\n",
    "...     y_pred = knn.predict(X_test)\n",
    "...     scores[k] = metrics.accuracy_score(y_test, y_pred)\n",
    "...     score_list.append(metrics.accuracy_score(y_test, y_pred))"
   ]
  },
  {
   "cell_type": "code",
   "execution_count": 24,
   "metadata": {},
   "outputs": [
    {
     "data": {
      "text/plain": [
       "[1.0,\n",
       " 0.9777777777777777,\n",
       " 1.0,\n",
       " 1.0,\n",
       " 0.9777777777777777,\n",
       " 0.9555555555555556,\n",
       " 0.9555555555555556,\n",
       " 0.9555555555555556,\n",
       " 0.9555555555555556,\n",
       " 0.9777777777777777,\n",
       " 0.9555555555555556,\n",
       " 0.9777777777777777,\n",
       " 0.9555555555555556,\n",
       " 0.9777777777777777,\n",
       " 0.9777777777777777,\n",
       " 0.9777777777777777,\n",
       " 0.9777777777777777,\n",
       " 0.9777777777777777,\n",
       " 0.9777777777777777,\n",
       " 0.9555555555555556,\n",
       " 0.9777777777777777,\n",
       " 0.9555555555555556,\n",
       " 0.9555555555555556,\n",
       " 0.9555555555555556,\n",
       " 0.9555555555555556]"
      ]
     },
     "execution_count": 24,
     "metadata": {},
     "output_type": "execute_result"
    }
   ],
   "source": [
    "score_list"
   ]
  },
  {
   "cell_type": "code",
   "execution_count": 25,
   "metadata": {},
   "outputs": [
    {
     "data": {
      "text/plain": [
       "{1: 1.0,\n",
       " 2: 0.9777777777777777,\n",
       " 3: 1.0,\n",
       " 4: 1.0,\n",
       " 5: 0.9777777777777777,\n",
       " 6: 0.9555555555555556,\n",
       " 7: 0.9555555555555556,\n",
       " 8: 0.9555555555555556,\n",
       " 9: 0.9555555555555556,\n",
       " 10: 0.9777777777777777,\n",
       " 11: 0.9555555555555556,\n",
       " 12: 0.9777777777777777,\n",
       " 13: 0.9555555555555556,\n",
       " 14: 0.9777777777777777,\n",
       " 15: 0.9777777777777777,\n",
       " 16: 0.9777777777777777,\n",
       " 17: 0.9777777777777777,\n",
       " 18: 0.9777777777777777,\n",
       " 19: 0.9777777777777777,\n",
       " 20: 0.9555555555555556,\n",
       " 21: 0.9777777777777777,\n",
       " 22: 0.9555555555555556,\n",
       " 23: 0.9555555555555556,\n",
       " 24: 0.9555555555555556,\n",
       " 25: 0.9555555555555556}"
      ]
     },
     "execution_count": 25,
     "metadata": {},
     "output_type": "execute_result"
    }
   ],
   "source": [
    "scores"
   ]
  },
  {
   "cell_type": "markdown",
   "metadata": {},
   "source": [
    "## Step 4: Plot relation between k and testing accuracy"
   ]
  },
  {
   "cell_type": "code",
   "execution_count": 29,
   "metadata": {},
   "outputs": [
    {
     "data": {
      "text/plain": [
       "Text(0, 0.5, 'Testing accuracy')"
      ]
     },
     "execution_count": 29,
     "metadata": {},
     "output_type": "execute_result"
    },
    {
     "data": {
      "image/png": "[encoded data removed]",
      "text/plain": [
       "<Figure size 432x288 with 1 Axes>"
      ]
     },
     "metadata": {
      "needs_background": "light"
     },
     "output_type": "display_data"
    }
   ],
   "source": [
    ">>> %matplotlib inline \n",
    ">>> import matplotlib.pyplot as plt \n",
    ">>> plt.plot(k_range, score_list)\n",
    ">>> plt.xlabel('Value for k for KNN')\n",
    ">>> plt.ylabel('Testing accuracy')"
   ]
  },
  {
   "cell_type": "markdown",
   "metadata": {},
   "source": [
    "## Step 5: Making predictions "
   ]
  },
  {
   "cell_type": "code",
   "execution_count": 41,
   "metadata": {},
   "outputs": [
    {
     "name": "stdout",
     "output_type": "stream",
     "text": [
      "First Predictions  ->  iris_setosa\n",
      "Second Predictions ->  iris_setosa\n"
     ]
    },
    {
     "name": "stderr",
     "output_type": "stream",
     "text": [
      "C:\\ProgramData\\Anaconda3\\lib\\site-packages\\ipykernel_launcher.py:2: DataConversionWarning: A column-vector y was passed when a 1d array was expected. Please change the shape of y to (n_samples, ), for example using ravel().\n",
      "  \n"
     ]
    }
   ],
   "source": [
    ">>> knn = KNeighborsClassifier(n_neighbors=5)\n",
    ">>> knn.fit(data,target)\n",
    ">>> target_Classes = {0:'iris_setosa', 1:'iris_versicolor', 2:'iris_verginica'}\n",
    ">>> x_new = [[4,3,1,2],\n",
    "...         [5,4,1,3]]\n",
    ">>> y_predict = knn.predict(x_new)\n",
    ">>> print('First Predictions  -> ',target_Classes[y_predict[1]])\n",
    ">>> print('Second Predictions -> ',target_Classes[y_predict[0]])"
   ]
  }
 ],
 "metadata": {
  "kernelspec": {
   "display_name": "Python 3",
   "language": "python",
   "name": "python3"
  },
  "language_info": {
   "codemirror_mode": {
    "name": "ipython",
    "version": 3
   },
   "file_extension": ".py",
   "mimetype": "text/x-python",
   "name": "python",
   "nbconvert_exporter": "python",
   "pygments_lexer": "ipython3",
   "version": "3.7.3"
  }
 },
 "nbformat": 4,
 "nbformat_minor": 2
}
